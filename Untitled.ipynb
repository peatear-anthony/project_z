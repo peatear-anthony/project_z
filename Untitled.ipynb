{
 "cells": [
  {
   "cell_type": "code",
   "execution_count": 1,
   "metadata": {},
   "outputs": [
    {
     "name": "stdout",
     "output_type": "stream",
     "text": [
      "Untitled.ipynb\t    mozart_k168-01.mid\tmozart_k170-02.mid  mozart_k172-01.mid\r\n",
      "mozart_k158-01.mid  mozart_k168-02.mid\tmozart_k170-03.mid  mozart_k499-03.mid\r\n",
      "mozart_k158-03.mid  mozart_k168-03.mid\tmozart_k170-04.mid  mozart_k499-04.mid\r\n",
      "mozart_k159-01.mid  mozart_k168-04.mid\tmozart_k171-01.mid  mozart_k546-01.mid\r\n",
      "mozart_k159-02.mid  mozart_k169-01.mid\tmozart_k171-02.mid  mozart_k546-02.mid\r\n",
      "mozart_k160-02.mid  mozart_k169-03.mid\tmozart_k171-03.mid  mozart_k575-02.mid\r\n",
      "mozart_k160-03.mid  mozart_k169-04.mid\tmozart_k171-04.mid  mozart_k575-03.mid\r\n"
     ]
    }
   ],
   "source": [
    "!ls"
   ]
  },
  {
   "cell_type": "code",
   "execution_count": 2,
   "metadata": {},
   "outputs": [],
   "source": [
    "!cd ../"
   ]
  },
  {
   "cell_type": "code",
   "execution_count": 6,
   "metadata": {},
   "outputs": [
    {
     "name": "stdout",
     "output_type": "stream",
     "text": [
      "/data/mozart_k158-01.mid\r\n"
     ]
    }
   ],
   "source": [
    "!realpath mozart_k158-01.mid"
   ]
  },
  {
   "cell_type": "code",
   "execution_count": 12,
   "metadata": {},
   "outputs": [
    {
     "name": "stdout",
     "output_type": "stream",
     "text": [
      "/bin/sh: 1: convert_dir_to_note_sequences: not found\r\n"
     ]
    }
   ],
   "source": [
    "!convert_dir_to_note_sequences"
   ]
  },
  {
   "cell_type": "code",
   "execution_count": null,
   "metadata": {},
   "outputs": [],
   "source": []
  }
 ],
 "metadata": {
  "kernelspec": {
   "display_name": "Python 3",
   "language": "python",
   "name": "python3"
  },
  "language_info": {
   "codemirror_mode": {
    "name": "ipython",
    "version": 3
   },
   "file_extension": ".py",
   "mimetype": "text/x-python",
   "name": "python",
   "nbconvert_exporter": "python",
   "pygments_lexer": "ipython3",
   "version": "3.5.2"
  }
 },
 "nbformat": 4,
 "nbformat_minor": 2
}
